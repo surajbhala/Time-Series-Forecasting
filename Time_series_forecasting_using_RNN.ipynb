{
  "nbformat": 4,
  "nbformat_minor": 0,
  "metadata": {
    "colab": {
      "name": "Time series forecasting using RNN.ipynb",
      "provenance": [],
      "collapsed_sections": [],
      "include_colab_link": true
    },
    "kernelspec": {
      "name": "python3",
      "display_name": "Python 3"
    }
  },
  "cells": [
    {
      "cell_type": "markdown",
      "metadata": {
        "id": "view-in-github",
        "colab_type": "text"
      },
      "source": [
        "<a href=\"https://colab.research.google.com/github/surajbhala/Time-Series-Forecasting/blob/main/Time_series_forecasting_using_RNN.ipynb\" target=\"_parent\"><img src=\"https://colab.research.google.com/assets/colab-badge.svg\" alt=\"Open In Colab\"/></a>"
      ]
    },
    {
      "cell_type": "code",
      "metadata": {
        "id": "Vj9oxe5_g5fN"
      },
      "source": [
        "import numpy as np\n",
        "import pandas as pd"
      ],
      "execution_count": null,
      "outputs": []
    },
    {
      "cell_type": "code",
      "metadata": {
        "id": "B-llBDnmTmzO"
      },
      "source": [
        ""
      ],
      "execution_count": null,
      "outputs": []
    },
    {
      "cell_type": "code",
      "metadata": {
        "id": "aP_rUOI6Tnhq",
        "colab": {
          "base_uri": "https://localhost:8080/"
        },
        "outputId": "72d6c25e-79f3-449b-d451-cc63f6622614"
      },
      "source": [
        "from google.colab import drive\n",
        "drive.mount('/content/drive')"
      ],
      "execution_count": null,
      "outputs": [
        {
          "output_type": "stream",
          "text": [
            "Mounted at /content/drive\n"
          ],
          "name": "stdout"
        }
      ]
    },
    {
      "cell_type": "code",
      "metadata": {
        "id": "VHYtVgZDhVvA"
      },
      "source": [
        "# data = pd.read_excel('service-data.xlsx')\n",
        "rain_high_daily = pd.read_csv('/content/drive/MyDrive/UpgradTimeSeries/rainfall-monthly-highest-daily-total.csv')"
      ],
      "execution_count": null,
      "outputs": []
    },
    {
      "cell_type": "code",
      "metadata": {
        "id": "I5oTw0MrhYCN",
        "colab": {
          "base_uri": "https://localhost:8080/",
          "height": 195
        },
        "outputId": "ccdc1f29-34fd-494c-8576-cd0dc48cadaa"
      },
      "source": [
        "rain_high_daily.head()"
      ],
      "execution_count": null,
      "outputs": [
        {
          "output_type": "execute_result",
          "data": {
            "text/html": [
              "<div>\n",
              "<style scoped>\n",
              "    .dataframe tbody tr th:only-of-type {\n",
              "        vertical-align: middle;\n",
              "    }\n",
              "\n",
              "    .dataframe tbody tr th {\n",
              "        vertical-align: top;\n",
              "    }\n",
              "\n",
              "    .dataframe thead th {\n",
              "        text-align: right;\n",
              "    }\n",
              "</style>\n",
              "<table border=\"1\" class=\"dataframe\">\n",
              "  <thead>\n",
              "    <tr style=\"text-align: right;\">\n",
              "      <th></th>\n",
              "      <th>month</th>\n",
              "      <th>maximum_rainfall_in_a_day</th>\n",
              "    </tr>\n",
              "  </thead>\n",
              "  <tbody>\n",
              "    <tr>\n",
              "      <th>0</th>\n",
              "      <td>1982-01</td>\n",
              "      <td>36.5</td>\n",
              "    </tr>\n",
              "    <tr>\n",
              "      <th>1</th>\n",
              "      <td>1982-02</td>\n",
              "      <td>9.4</td>\n",
              "    </tr>\n",
              "    <tr>\n",
              "      <th>2</th>\n",
              "      <td>1982-03</td>\n",
              "      <td>61.7</td>\n",
              "    </tr>\n",
              "    <tr>\n",
              "      <th>3</th>\n",
              "      <td>1982-04</td>\n",
              "      <td>45.1</td>\n",
              "    </tr>\n",
              "    <tr>\n",
              "      <th>4</th>\n",
              "      <td>1982-05</td>\n",
              "      <td>33.0</td>\n",
              "    </tr>\n",
              "  </tbody>\n",
              "</table>\n",
              "</div>"
            ],
            "text/plain": [
              "     month  maximum_rainfall_in_a_day\n",
              "0  1982-01                       36.5\n",
              "1  1982-02                        9.4\n",
              "2  1982-03                       61.7\n",
              "3  1982-04                       45.1\n",
              "4  1982-05                       33.0"
            ]
          },
          "metadata": {
            "tags": []
          },
          "execution_count": 8
        }
      ]
    },
    {
      "cell_type": "code",
      "metadata": {
        "colab": {
          "base_uri": "https://localhost:8080/"
        },
        "id": "sUYCnBX9DK6i",
        "outputId": "e3b1f5db-ec54-4dc1-a2a2-57886528949b"
      },
      "source": [
        "rain_high_daily.shape"
      ],
      "execution_count": null,
      "outputs": [
        {
          "output_type": "execute_result",
          "data": {
            "text/plain": [
              "(462, 2)"
            ]
          },
          "metadata": {
            "tags": []
          },
          "execution_count": 9
        }
      ]
    },
    {
      "cell_type": "code",
      "metadata": {
        "id": "fsT0lfYthaNG"
      },
      "source": [
        "requiredData = rain_high_daily.copy()"
      ],
      "execution_count": null,
      "outputs": []
    },
    {
      "cell_type": "code",
      "metadata": {
        "id": "Ug7CcFKKiBoL",
        "colab": {
          "base_uri": "https://localhost:8080/",
          "height": 195
        },
        "outputId": "b5a2b8d1-a80b-4689-9049-37b19dd855b1"
      },
      "source": [
        "requiredData.head()"
      ],
      "execution_count": null,
      "outputs": [
        {
          "output_type": "execute_result",
          "data": {
            "text/html": [
              "<div>\n",
              "<style scoped>\n",
              "    .dataframe tbody tr th:only-of-type {\n",
              "        vertical-align: middle;\n",
              "    }\n",
              "\n",
              "    .dataframe tbody tr th {\n",
              "        vertical-align: top;\n",
              "    }\n",
              "\n",
              "    .dataframe thead th {\n",
              "        text-align: right;\n",
              "    }\n",
              "</style>\n",
              "<table border=\"1\" class=\"dataframe\">\n",
              "  <thead>\n",
              "    <tr style=\"text-align: right;\">\n",
              "      <th></th>\n",
              "      <th>month</th>\n",
              "      <th>maximum_rainfall_in_a_day</th>\n",
              "    </tr>\n",
              "  </thead>\n",
              "  <tbody>\n",
              "    <tr>\n",
              "      <th>0</th>\n",
              "      <td>1982-01</td>\n",
              "      <td>36.5</td>\n",
              "    </tr>\n",
              "    <tr>\n",
              "      <th>1</th>\n",
              "      <td>1982-02</td>\n",
              "      <td>9.4</td>\n",
              "    </tr>\n",
              "    <tr>\n",
              "      <th>2</th>\n",
              "      <td>1982-03</td>\n",
              "      <td>61.7</td>\n",
              "    </tr>\n",
              "    <tr>\n",
              "      <th>3</th>\n",
              "      <td>1982-04</td>\n",
              "      <td>45.1</td>\n",
              "    </tr>\n",
              "    <tr>\n",
              "      <th>4</th>\n",
              "      <td>1982-05</td>\n",
              "      <td>33.0</td>\n",
              "    </tr>\n",
              "  </tbody>\n",
              "</table>\n",
              "</div>"
            ],
            "text/plain": [
              "     month  maximum_rainfall_in_a_day\n",
              "0  1982-01                       36.5\n",
              "1  1982-02                        9.4\n",
              "2  1982-03                       61.7\n",
              "3  1982-04                       45.1\n",
              "4  1982-05                       33.0"
            ]
          },
          "metadata": {
            "tags": []
          },
          "execution_count": 11
        }
      ]
    },
    {
      "cell_type": "code",
      "metadata": {
        "id": "EaSlaBzjiEDz"
      },
      "source": [
        "requiredData.columns = ['Date','rain_fall']"
      ],
      "execution_count": null,
      "outputs": []
    },
    {
      "cell_type": "code",
      "metadata": {
        "id": "Svh-GvOoiJ57",
        "colab": {
          "base_uri": "https://localhost:8080/",
          "height": 195
        },
        "outputId": "de4c31bf-d0e6-4686-aea0-170566b59715"
      },
      "source": [
        "requiredData.head()"
      ],
      "execution_count": null,
      "outputs": [
        {
          "output_type": "execute_result",
          "data": {
            "text/html": [
              "<div>\n",
              "<style scoped>\n",
              "    .dataframe tbody tr th:only-of-type {\n",
              "        vertical-align: middle;\n",
              "    }\n",
              "\n",
              "    .dataframe tbody tr th {\n",
              "        vertical-align: top;\n",
              "    }\n",
              "\n",
              "    .dataframe thead th {\n",
              "        text-align: right;\n",
              "    }\n",
              "</style>\n",
              "<table border=\"1\" class=\"dataframe\">\n",
              "  <thead>\n",
              "    <tr style=\"text-align: right;\">\n",
              "      <th></th>\n",
              "      <th>Date</th>\n",
              "      <th>rain_fall</th>\n",
              "    </tr>\n",
              "  </thead>\n",
              "  <tbody>\n",
              "    <tr>\n",
              "      <th>0</th>\n",
              "      <td>1982-01</td>\n",
              "      <td>36.5</td>\n",
              "    </tr>\n",
              "    <tr>\n",
              "      <th>1</th>\n",
              "      <td>1982-02</td>\n",
              "      <td>9.4</td>\n",
              "    </tr>\n",
              "    <tr>\n",
              "      <th>2</th>\n",
              "      <td>1982-03</td>\n",
              "      <td>61.7</td>\n",
              "    </tr>\n",
              "    <tr>\n",
              "      <th>3</th>\n",
              "      <td>1982-04</td>\n",
              "      <td>45.1</td>\n",
              "    </tr>\n",
              "    <tr>\n",
              "      <th>4</th>\n",
              "      <td>1982-05</td>\n",
              "      <td>33.0</td>\n",
              "    </tr>\n",
              "  </tbody>\n",
              "</table>\n",
              "</div>"
            ],
            "text/plain": [
              "      Date  rain_fall\n",
              "0  1982-01       36.5\n",
              "1  1982-02        9.4\n",
              "2  1982-03       61.7\n",
              "3  1982-04       45.1\n",
              "4  1982-05       33.0"
            ]
          },
          "metadata": {
            "tags": []
          },
          "execution_count": 13
        }
      ]
    },
    {
      "cell_type": "code",
      "metadata": {
        "id": "YBBjEp0lkWjF"
      },
      "source": [
        "import matplotlib.pyplot as plt"
      ],
      "execution_count": null,
      "outputs": []
    },
    {
      "cell_type": "code",
      "metadata": {
        "id": "pRkRqFt6kjZd",
        "colab": {
          "base_uri": "https://localhost:8080/",
          "height": 282
        },
        "outputId": "cf0ec026-cdd6-48c4-e0e2-2e00d5abea51"
      },
      "source": [
        "plt.plot(requiredData.rain_fall)"
      ],
      "execution_count": null,
      "outputs": [
        {
          "output_type": "execute_result",
          "data": {
            "text/plain": [
              "[<matplotlib.lines.Line2D at 0x7fc776331c50>]"
            ]
          },
          "metadata": {
            "tags": []
          },
          "execution_count": 15
        },
        {
          "output_type": "display_data",
          "data": {
            "image/png": "[encoded data removed]",
            "text/plain": [
              "<Figure size 432x288 with 1 Axes>"
            ]
          },
          "metadata": {
            "tags": [],
            "needs_background": "light"
          }
        }
      ]
    },
    {
      "cell_type": "code",
      "metadata": {
        "id": "_u5UgdLjk2LE",
        "colab": {
          "base_uri": "https://localhost:8080/"
        },
        "outputId": "45db3e69-dd91-4585-f33a-c98bfebb6a5a"
      },
      "source": [
        "requiredData.shape"
      ],
      "execution_count": null,
      "outputs": [
        {
          "output_type": "execute_result",
          "data": {
            "text/plain": [
              "(462, 2)"
            ]
          },
          "metadata": {
            "tags": []
          },
          "execution_count": 16
        }
      ]
    },
    {
      "cell_type": "code",
      "metadata": {
        "id": "vCHupAkgk8HM"
      },
      "source": [
        "# scaling stock data between 0 and 1\n",
        "import numpy as np\n",
        "from sklearn.preprocessing import MinMaxScaler"
      ],
      "execution_count": null,
      "outputs": []
    },
    {
      "cell_type": "code",
      "metadata": {
        "id": "nzfWj3cUlN9D"
      },
      "source": [
        "sc = MinMaxScaler(feature_range=(0,1))"
      ],
      "execution_count": null,
      "outputs": []
    },
    {
      "cell_type": "code",
      "metadata": {
        "id": "BSkJF69plO-L"
      },
      "source": [
        "training_set = requiredData.iloc[:,1:].values"
      ],
      "execution_count": null,
      "outputs": []
    },
    {
      "cell_type": "code",
      "metadata": {
        "id": "sHArVO7tlVAL"
      },
      "source": [
        "training_set_scaled = sc.fit_transform(training_set)"
      ],
      "execution_count": null,
      "outputs": []
    },
    {
      "cell_type": "code",
      "metadata": {
        "id": "W8K-K9d5lhe6",
        "colab": {
          "base_uri": "https://localhost:8080/"
        },
        "outputId": "913b8df8-323d-4722-fc5f-e65a10533a9c"
      },
      "source": [
        "training_set_scaled[:10]"
      ],
      "execution_count": null,
      "outputs": [
        {
          "output_type": "execute_result",
          "data": {
            "text/plain": [
              "array([[0.16805556],\n",
              "       [0.04259259],\n",
              "       [0.28472222],\n",
              "       [0.20787037],\n",
              "       [0.15185185],\n",
              "       [0.09444444],\n",
              "       [0.0787037 ],\n",
              "       [0.2662037 ],\n",
              "       [0.08240741],\n",
              "       [0.04537037]])"
            ]
          },
          "metadata": {
            "tags": []
          },
          "execution_count": 21
        }
      ]
    },
    {
      "cell_type": "code",
      "metadata": {
        "id": "53_YOX7jlWJr"
      },
      "source": [
        "# creating training list\n",
        "X_train = []\n",
        "y_train = []"
      ],
      "execution_count": null,
      "outputs": []
    },
    {
      "cell_type": "code",
      "metadata": {
        "id": "fks_Ri01l20B",
        "colab": {
          "base_uri": "https://localhost:8080/"
        },
        "outputId": "abda72db-043c-40d3-99b8-52b7e4c1aa1c"
      },
      "source": [
        "training_set_scaled.shape"
      ],
      "execution_count": null,
      "outputs": [
        {
          "output_type": "execute_result",
          "data": {
            "text/plain": [
              "(462, 1)"
            ]
          },
          "metadata": {
            "tags": []
          },
          "execution_count": 23
        }
      ]
    },
    {
      "cell_type": "code",
      "metadata": {
        "id": "aopwkvvKl0bh"
      },
      "source": [
        "# using past 60 days data to predict 31st day temp\n",
        "prev_day = 60\n",
        "for i in range(prev_day,training_set_scaled.shape[0]):\n",
        "    X_train.append(training_set_scaled[i-prev_day:i,0])\n",
        "    y_train.append(training_set_scaled[i,0])"
      ],
      "execution_count": null,
      "outputs": []
    },
    {
      "cell_type": "code",
      "metadata": {
        "id": "cudFenVjmNnw"
      },
      "source": [
        "X_train, y_train = np.array(X_train), np.array(y_train)"
      ],
      "execution_count": null,
      "outputs": []
    },
    {
      "cell_type": "code",
      "metadata": {
        "id": "VFtMgEG7pdWw",
        "colab": {
          "base_uri": "https://localhost:8080/"
        },
        "outputId": "3c2f575e-71c3-4684-cefe-a009da5d29ab"
      },
      "source": [
        "(X_train.shape, y_train.shape)"
      ],
      "execution_count": null,
      "outputs": [
        {
          "output_type": "execute_result",
          "data": {
            "text/plain": [
              "((402, 60), (402,))"
            ]
          },
          "metadata": {
            "tags": []
          },
          "execution_count": 26
        }
      ]
    },
    {
      "cell_type": "code",
      "metadata": {
        "id": "n1M1ylgNmPOA",
        "colab": {
          "base_uri": "https://localhost:8080/"
        },
        "outputId": "98dea401-1824-400c-c991-e857c434021c"
      },
      "source": [
        "X_train[0], y_train[0]"
      ],
      "execution_count": null,
      "outputs": [
        {
          "output_type": "execute_result",
          "data": {
            "text/plain": [
              "(array([0.16805556, 0.04259259, 0.28472222, 0.20787037, 0.15185185,\n",
              "        0.09444444, 0.0787037 , 0.2662037 , 0.08240741, 0.04537037,\n",
              "        0.18240741, 0.5037037 , 0.19907407, 0.02268519, 0.0837963 ,\n",
              "        0.09768519, 0.14861111, 0.12731481, 0.25601852, 0.84074074,\n",
              "        0.23194444, 0.18425926, 0.25277778, 0.76018519, 0.2875    ,\n",
              "        0.71388889, 0.55185185, 0.17824074, 0.21203704, 0.55972222,\n",
              "        0.22685185, 0.10324074, 0.21435185, 0.21759259, 0.16296296,\n",
              "        0.26944444, 0.16342593, 0.08564815, 0.10925926, 0.13472222,\n",
              "        0.16666667, 0.04490741, 0.14814815, 0.09814815, 0.10092593,\n",
              "        0.13888889, 0.17592593, 0.40092593, 0.44166667, 0.10555556,\n",
              "        0.32824074, 0.26018519, 0.23657407, 0.1587963 , 0.10787037,\n",
              "        0.13055556, 0.45092593, 0.30277778, 0.18657407, 0.6087963 ]),\n",
              " 0.5888888888888889)"
            ]
          },
          "metadata": {
            "tags": []
          },
          "execution_count": 27
        }
      ]
    },
    {
      "cell_type": "code",
      "metadata": {
        "id": "wJYxKwOimr6J",
        "colab": {
          "base_uri": "https://localhost:8080/"
        },
        "outputId": "5afb8d9a-ec21-4aef-e276-2613c7d03781"
      },
      "source": [
        "# reshaping X_train to 3 dimensional array from (521,30) to (521,30,1)\n",
        "X_train = np.reshape(X_train, (X_train.shape[0],X_train.shape[1],1))\n",
        "print(X_train.shape)"
      ],
      "execution_count": null,
      "outputs": [
        {
          "output_type": "stream",
          "text": [
            "(402, 60, 1)\n"
          ],
          "name": "stdout"
        }
      ]
    },
    {
      "cell_type": "code",
      "metadata": {
        "id": "MI0c19aYm45e"
      },
      "source": [
        "# importing other required packages for training\n",
        "import numpy as  np\n",
        "import matplotlib.pyplot as plt\n",
        "import tensorflow as tf\n",
        "from tensorflow.keras import Model, layers"
      ],
      "execution_count": null,
      "outputs": []
    },
    {
      "cell_type": "code",
      "metadata": {
        "id": "ec_iif-CnJaJ"
      },
      "source": [
        "  # Training Parameters\n",
        "learning_rate = 1e-4\n",
        "training_steps = X_train.shape[0]\n",
        "batch_size = 20\n",
        "display_step = 100"
      ],
      "execution_count": null,
      "outputs": []
    },
    {
      "cell_type": "code",
      "metadata": {
        "id": "98PcIorKnMHu"
      },
      "source": [
        "# Use tf.data API to shuffle and batch data.\n",
        "train_data = tf.data.Dataset.from_tensor_slices((X_train[:380], y_train[:380]))\n",
        "train_data = train_data.repeat().shuffle(100).batch(batch_size).prefetch(1)"
      ],
      "execution_count": null,
      "outputs": []
    },
    {
      "cell_type": "code",
      "metadata": {
        "id": "aOgClokynOBO"
      },
      "source": [
        "class RNN(Model):\n",
        "    def __init__(self):\n",
        "        super(RNN, self).__init__()\n",
        "        \n",
        "        self.lstm_layer = layers.LSTM(units=4)\n",
        "        self.hidden_layer1 = layers.Dense(64)\n",
        "        self.hidden_layer2 = layers.Dense(128)\n",
        "        self.dropout1 = layers.Dropout(0.2)\n",
        "        self.dropout2 = layers.Dropout(0.3)\n",
        "        self.dropout3 = layers.Dropout(0.4)\n",
        "        self.out = layers.Dense(1)\n",
        "        \n",
        "    \n",
        "    def call(self, x):\n",
        "        \n",
        "        \n",
        "        x = self.lstm_layer(x)\n",
        "        x = self.dropout1(x)\n",
        "\n",
        "        x = self.dropout1(x)\n",
        "\n",
        "        x = self.hidden_layer1(x)\n",
        "        x = self.dropout2(x)\n",
        "\n",
        "        x = self.hidden_layer2(x)\n",
        "        x = self.dropout3(x)\n",
        "\n",
        "        x = self.out(x)\n",
        "        return x"
      ],
      "execution_count": null,
      "outputs": []
    },
    {
      "cell_type": "code",
      "metadata": {
        "id": "hlsxHh5eArKN"
      },
      "source": [
        "def loss_func( predicted_y, target_y):\n",
        "    target_y = tf.dtypes.cast(target_y, tf.double)\n",
        "    predicted_y = tf.dtypes.cast(predicted_y, tf.double)\n",
        "    predicted_y = tf.constant(predicted_y)\n",
        "    target_y = tf.constant(target_y)\n",
        "    loss = tf.reduce_mean(tf.square(target_y - predicted_y))\n",
        "    return loss"
      ],
      "execution_count": null,
      "outputs": []
    },
    {
      "cell_type": "code",
      "metadata": {
        "id": "OjMcugWfnVmt"
      },
      "source": [
        "rnn = RNN()"
      ],
      "execution_count": null,
      "outputs": []
    },
    {
      "cell_type": "code",
      "metadata": {
        "id": "W_Jh8zManXj9"
      },
      "source": [
        "optimizer = tf.optimizers.Adam(learning_rate)\n",
        "def train(x, y):\n",
        "    # Wrap computation inside a GradientTape for automatic differentiation.\n",
        "    with tf.GradientTape() as g:\n",
        "        # Forward pass.\n",
        "        pred = rnn(x)\n",
        "        # Compute loss.\n",
        "        loss = loss_func(pred,y)\n",
        "#         loss = cross_entropy_loss(pred, y)\n",
        "        \n",
        "    # Variables to update, i.e. trainable variables.\n",
        "    trainable_variables = rnn.trainable_variables\n",
        "\n",
        "    # Compute gradients.\n",
        "    gradients = g.gradient(loss, trainable_variables)\n",
        "    \n",
        "    # Update weights following gradients.\n",
        "    optimizer.apply_gradients(zip(gradients, trainable_variables))"
      ],
      "execution_count": null,
      "outputs": []
    },
    {
      "cell_type": "code",
      "metadata": {
        "id": "AIS5OpD_nbfu",
        "colab": {
          "base_uri": "https://localhost:8080/"
        },
        "outputId": "8d8fb5a9-98a6-4152-ea5d-b7a0dfca8726"
      },
      "source": [
        "# Run training for the given number of steps.\n",
        "epoches = 2\n",
        "for epoch in range(epoches):\n",
        "    for step, (batch_x, batch_y) in enumerate(train_data.take(480), 1):\n",
        "        # Run the optimization to update W and b values.\n",
        "        train(tf.reshape(batch_x,[batch_size,60,1]), batch_y)\n",
        "        \n",
        "        if step%100 == 0 or step == 1:\n",
        "            pred = rnn(tf.reshape(batch_x,[batch_size,60,1]))\n",
        "            loss = loss_func(pred, batch_y)\n",
        "            print(\"Epoch: %i step: %i, loss: %f\" % (epoch, step, loss))"
      ],
      "execution_count": null,
      "outputs": [
        {
          "output_type": "stream",
          "text": [
            "Epoch: 0 step: 1, loss: 0.094795\n",
            "Epoch: 0 step: 100, loss: 0.026627\n",
            "Epoch: 0 step: 200, loss: 0.031240\n",
            "Epoch: 0 step: 300, loss: 0.016224\n",
            "Epoch: 0 step: 400, loss: 0.032180\n",
            "Epoch: 1 step: 1, loss: 0.044063\n",
            "Epoch: 1 step: 100, loss: 0.031093\n",
            "Epoch: 1 step: 200, loss: 0.075017\n",
            "Epoch: 1 step: 300, loss: 0.018431\n",
            "Epoch: 1 step: 400, loss: 0.033869\n"
          ],
          "name": "stdout"
        }
      ]
    },
    {
      "cell_type": "code",
      "metadata": {
        "id": "eoukx2pCHHtt"
      },
      "source": [
        "# creating training list\n",
        "X_test = []\n",
        "y_test = []"
      ],
      "execution_count": null,
      "outputs": []
    },
    {
      "cell_type": "code",
      "metadata": {
        "colab": {
          "base_uri": "https://localhost:8080/"
        },
        "id": "4hcNysKaHHtx",
        "outputId": "fa7d4fc2-a204-40dc-a1b2-2c15164d4ec5"
      },
      "source": [
        "training_set_scaled.shape"
      ],
      "execution_count": null,
      "outputs": [
        {
          "output_type": "execute_result",
          "data": {
            "text/plain": [
              "(462, 1)"
            ]
          },
          "metadata": {
            "tags": []
          },
          "execution_count": 38
        }
      ]
    },
    {
      "cell_type": "code",
      "metadata": {
        "id": "jg0JWziSHHtz"
      },
      "source": [
        "# using past 60 days data to predict 31st day temp\n",
        "prev_day = 60\n",
        "for i in range(380,training_set_scaled.shape[0]):\n",
        "    X_test.append(training_set_scaled[i-prev_day:i,0])\n",
        "    y_test.append(training_set_scaled[i,0])"
      ],
      "execution_count": null,
      "outputs": []
    },
    {
      "cell_type": "code",
      "metadata": {
        "id": "0aJ7aQTmHjSk"
      },
      "source": [
        "X_test = np.array(X_test)\n",
        "X_test = np.reshape(X_test, (X_test.shape[0],X_test.shape[1],1))"
      ],
      "execution_count": null,
      "outputs": []
    },
    {
      "cell_type": "code",
      "metadata": {
        "id": "QWs0ggzipwJf"
      },
      "source": [
        "test_data = tf.data.Dataset.from_tensor_slices((X_test, y_test))\n",
        "test_data = test_data.repeat().shuffle(100).batch(5).prefetch(1)"
      ],
      "execution_count": null,
      "outputs": []
    },
    {
      "cell_type": "code",
      "metadata": {
        "colab": {
          "base_uri": "https://localhost:8080/",
          "height": 265
        },
        "id": "BhDGWySvFdI6",
        "outputId": "9f97afdd-c8a1-4761-c1e8-368719123f80"
      },
      "source": [
        "for step, (batch_x, batch_y) in enumerate(test_data.take(1), 1):\n",
        "    print\n",
        "    pred = rnn(batch_x)\n",
        "    plt.plot(pred, label = 'pred')\n",
        "    plt.plot(batch_y, label = 'real')\n",
        "    plt.legend()"
      ],
      "execution_count": null,
      "outputs": [
        {
          "output_type": "display_data",
          "data": {
            "image/png": "[encoded data removed]",
            "text/plain": [
              "<Figure size 432x288 with 1 Axes>"
            ]
          },
          "metadata": {
            "tags": [],
            "needs_background": "light"
          }
        }
      ]
    },
    {
      "cell_type": "code",
      "metadata": {
        "id": "owPMfPlSDBP3"
      },
      "source": [
        ""
      ],
      "execution_count": null,
      "outputs": []
    }
  ]
}