{
  "nbformat": 4,
  "nbformat_minor": 0,
  "metadata": {
    "colab": {
      "name": "Time series forecasting using RNN.ipynb",
      "provenance": [],
      "collapsed_sections": [],
      "include_colab_link": true
    },
    "kernelspec": {
      "name": "python3",
      "display_name": "Python 3"
    }
  },
  "cells": [
    {
      "cell_type": "markdown",
      "metadata": {
        "id": "view-in-github",
        "colab_type": "text"
      },
      "source": [
        "<a href=\"https://colab.research.google.com/github/surajbhala/Time-Series-Forecasting/blob/main/Time_series_forecasting_using_RNN.ipynb\" target=\"_parent\"><img src=\"https://colab.research.google.com/assets/colab-badge.svg\" alt=\"Open In Colab\"/></a>"
      ]
    },
    {
      "cell_type": "code",
      "metadata": {
        "id": "Vj9oxe5_g5fN"
      },
      "source": [
        "import numpy as np\n",
        "import pandas as pd"
      ],
      "execution_count": 1,
      "outputs": []
    },
    {
      "cell_type": "code",
      "metadata": {
        "id": "B-llBDnmTmzO"
      },
      "source": [
        ""
      ],
      "execution_count": 1,
      "outputs": []
    },
    {
      "cell_type": "code",
      "metadata": {
        "id": "aP_rUOI6Tnhq",
        "colab": {
          "base_uri": "https://localhost:8080/"
        },
        "outputId": "030ea9e9-91e3-4666-cbc6-13ab7ce6505c"
      },
      "source": [
        "from google.colab import drive\n",
        "drive.mount('/content/drive')"
      ],
      "execution_count": 2,
      "outputs": [
        {
          "output_type": "stream",
          "text": [
            "Mounted at /content/drive\n"
          ],
          "name": "stdout"
        }
      ]
    },
    {
      "cell_type": "code",
      "metadata": {
        "id": "VHYtVgZDhVvA"
      },
      "source": [
        "# data = pd.read_excel('service-data.xlsx')\n",
        "rain_high_daily = pd.read_csv('/content/drive/MyDrive/UpgradTimeSeries/rainfall-monthly-highest-daily-total.csv')"
      ],
      "execution_count": 3,
      "outputs": []
    },
    {
      "cell_type": "code",
      "metadata": {
        "id": "I5oTw0MrhYCN",
        "colab": {
          "base_uri": "https://localhost:8080/",
          "height": 195
        },
        "outputId": "c392033e-7ffa-49f9-bf09-8fe829377f1b"
      },
      "source": [
        "rain_high_daily.head()"
      ],
      "execution_count": 4,
      "outputs": [
        {
          "output_type": "execute_result",
          "data": {
            "text/html": [
              "<div>\n",
              "<style scoped>\n",
              "    .dataframe tbody tr th:only-of-type {\n",
              "        vertical-align: middle;\n",
              "    }\n",
              "\n",
              "    .dataframe tbody tr th {\n",
              "        vertical-align: top;\n",
              "    }\n",
              "\n",
              "    .dataframe thead th {\n",
              "        text-align: right;\n",
              "    }\n",
              "</style>\n",
              "<table border=\"1\" class=\"dataframe\">\n",
              "  <thead>\n",
              "    <tr style=\"text-align: right;\">\n",
              "      <th></th>\n",
              "      <th>month</th>\n",
              "      <th>maximum_rainfall_in_a_day</th>\n",
              "    </tr>\n",
              "  </thead>\n",
              "  <tbody>\n",
              "    <tr>\n",
              "      <th>0</th>\n",
              "      <td>1982-01</td>\n",
              "      <td>36.5</td>\n",
              "    </tr>\n",
              "    <tr>\n",
              "      <th>1</th>\n",
              "      <td>1982-02</td>\n",
              "      <td>9.4</td>\n",
              "    </tr>\n",
              "    <tr>\n",
              "      <th>2</th>\n",
              "      <td>1982-03</td>\n",
              "      <td>61.7</td>\n",
              "    </tr>\n",
              "    <tr>\n",
              "      <th>3</th>\n",
              "      <td>1982-04</td>\n",
              "      <td>45.1</td>\n",
              "    </tr>\n",
              "    <tr>\n",
              "      <th>4</th>\n",
              "      <td>1982-05</td>\n",
              "      <td>33.0</td>\n",
              "    </tr>\n",
              "  </tbody>\n",
              "</table>\n",
              "</div>"
            ],
            "text/plain": [
              "     month  maximum_rainfall_in_a_day\n",
              "0  1982-01                       36.5\n",
              "1  1982-02                        9.4\n",
              "2  1982-03                       61.7\n",
              "3  1982-04                       45.1\n",
              "4  1982-05                       33.0"
            ]
          },
          "metadata": {
            "tags": []
          },
          "execution_count": 4
        }
      ]
    },
    {
      "cell_type": "code",
      "metadata": {
        "colab": {
          "base_uri": "https://localhost:8080/"
        },
        "id": "sUYCnBX9DK6i",
        "outputId": "0b9f6e0c-9911-451d-9b59-9bdaaeee63ec"
      },
      "source": [
        "rain_high_daily.shape"
      ],
      "execution_count": 5,
      "outputs": [
        {
          "output_type": "execute_result",
          "data": {
            "text/plain": [
              "(462, 2)"
            ]
          },
          "metadata": {
            "tags": []
          },
          "execution_count": 5
        }
      ]
    },
    {
      "cell_type": "code",
      "metadata": {
        "id": "fsT0lfYthaNG"
      },
      "source": [
        "requiredData = rain_high_daily.copy()"
      ],
      "execution_count": 6,
      "outputs": []
    },
    {
      "cell_type": "code",
      "metadata": {
        "id": "Ug7CcFKKiBoL",
        "colab": {
          "base_uri": "https://localhost:8080/",
          "height": 195
        },
        "outputId": "cea65da3-0df4-414e-b0c2-e1f2e15ba1a5"
      },
      "source": [
        "requiredData.head()"
      ],
      "execution_count": 7,
      "outputs": [
        {
          "output_type": "execute_result",
          "data": {
            "text/html": [
              "<div>\n",
              "<style scoped>\n",
              "    .dataframe tbody tr th:only-of-type {\n",
              "        vertical-align: middle;\n",
              "    }\n",
              "\n",
              "    .dataframe tbody tr th {\n",
              "        vertical-align: top;\n",
              "    }\n",
              "\n",
              "    .dataframe thead th {\n",
              "        text-align: right;\n",
              "    }\n",
              "</style>\n",
              "<table border=\"1\" class=\"dataframe\">\n",
              "  <thead>\n",
              "    <tr style=\"text-align: right;\">\n",
              "      <th></th>\n",
              "      <th>month</th>\n",
              "      <th>maximum_rainfall_in_a_day</th>\n",
              "    </tr>\n",
              "  </thead>\n",
              "  <tbody>\n",
              "    <tr>\n",
              "      <th>0</th>\n",
              "      <td>1982-01</td>\n",
              "      <td>36.5</td>\n",
              "    </tr>\n",
              "    <tr>\n",
              "      <th>1</th>\n",
              "      <td>1982-02</td>\n",
              "      <td>9.4</td>\n",
              "    </tr>\n",
              "    <tr>\n",
              "      <th>2</th>\n",
              "      <td>1982-03</td>\n",
              "      <td>61.7</td>\n",
              "    </tr>\n",
              "    <tr>\n",
              "      <th>3</th>\n",
              "      <td>1982-04</td>\n",
              "      <td>45.1</td>\n",
              "    </tr>\n",
              "    <tr>\n",
              "      <th>4</th>\n",
              "      <td>1982-05</td>\n",
              "      <td>33.0</td>\n",
              "    </tr>\n",
              "  </tbody>\n",
              "</table>\n",
              "</div>"
            ],
            "text/plain": [
              "     month  maximum_rainfall_in_a_day\n",
              "0  1982-01                       36.5\n",
              "1  1982-02                        9.4\n",
              "2  1982-03                       61.7\n",
              "3  1982-04                       45.1\n",
              "4  1982-05                       33.0"
            ]
          },
          "metadata": {
            "tags": []
          },
          "execution_count": 7
        }
      ]
    },
    {
      "cell_type": "code",
      "metadata": {
        "id": "EaSlaBzjiEDz"
      },
      "source": [
        "requiredData.columns = ['Date','rain_fall']"
      ],
      "execution_count": 8,
      "outputs": []
    },
    {
      "cell_type": "code",
      "metadata": {
        "id": "Svh-GvOoiJ57",
        "colab": {
          "base_uri": "https://localhost:8080/",
          "height": 195
        },
        "outputId": "f57dc5f2-84a6-4dad-a49e-6935d23c3f8e"
      },
      "source": [
        "requiredData.head()"
      ],
      "execution_count": 9,
      "outputs": [
        {
          "output_type": "execute_result",
          "data": {
            "text/html": [
              "<div>\n",
              "<style scoped>\n",
              "    .dataframe tbody tr th:only-of-type {\n",
              "        vertical-align: middle;\n",
              "    }\n",
              "\n",
              "    .dataframe tbody tr th {\n",
              "        vertical-align: top;\n",
              "    }\n",
              "\n",
              "    .dataframe thead th {\n",
              "        text-align: right;\n",
              "    }\n",
              "</style>\n",
              "<table border=\"1\" class=\"dataframe\">\n",
              "  <thead>\n",
              "    <tr style=\"text-align: right;\">\n",
              "      <th></th>\n",
              "      <th>Date</th>\n",
              "      <th>rain_fall</th>\n",
              "    </tr>\n",
              "  </thead>\n",
              "  <tbody>\n",
              "    <tr>\n",
              "      <th>0</th>\n",
              "      <td>1982-01</td>\n",
              "      <td>36.5</td>\n",
              "    </tr>\n",
              "    <tr>\n",
              "      <th>1</th>\n",
              "      <td>1982-02</td>\n",
              "      <td>9.4</td>\n",
              "    </tr>\n",
              "    <tr>\n",
              "      <th>2</th>\n",
              "      <td>1982-03</td>\n",
              "      <td>61.7</td>\n",
              "    </tr>\n",
              "    <tr>\n",
              "      <th>3</th>\n",
              "      <td>1982-04</td>\n",
              "      <td>45.1</td>\n",
              "    </tr>\n",
              "    <tr>\n",
              "      <th>4</th>\n",
              "      <td>1982-05</td>\n",
              "      <td>33.0</td>\n",
              "    </tr>\n",
              "  </tbody>\n",
              "</table>\n",
              "</div>"
            ],
            "text/plain": [
              "      Date  rain_fall\n",
              "0  1982-01       36.5\n",
              "1  1982-02        9.4\n",
              "2  1982-03       61.7\n",
              "3  1982-04       45.1\n",
              "4  1982-05       33.0"
            ]
          },
          "metadata": {
            "tags": []
          },
          "execution_count": 9
        }
      ]
    },
    {
      "cell_type": "code",
      "metadata": {
        "id": "YBBjEp0lkWjF"
      },
      "source": [
        "import matplotlib.pyplot as plt"
      ],
      "execution_count": 10,
      "outputs": []
    },
    {
      "cell_type": "code",
      "metadata": {
        "id": "pRkRqFt6kjZd",
        "colab": {
          "base_uri": "https://localhost:8080/",
          "height": 282
        },
        "outputId": "250ac8f2-9ecb-4673-99ab-ae2fe1b95e4f"
      },
      "source": [
        "plt.plot(requiredData.rain_fall)"
      ],
      "execution_count": 11,
      "outputs": [
        {
          "output_type": "execute_result",
          "data": {
            "text/plain": [
              "[<matplotlib.lines.Line2D at 0x7f5bd6ac1350>]"
            ]
          },
          "metadata": {
            "tags": []
          },
          "execution_count": 11
        },
        {
          "output_type": "display_data",
          "data": {
            "image/png": "[encoded data removed]",
            "text/plain": [
              "<Figure size 432x288 with 1 Axes>"
            ]
          },
          "metadata": {
            "tags": [],
            "needs_background": "light"
          }
        }
      ]
    },
    {
      "cell_type": "code",
      "metadata": {
        "id": "_u5UgdLjk2LE",
        "colab": {
          "base_uri": "https://localhost:8080/"
        },
        "outputId": "f642fe52-660b-4fcd-ca01-46f59e041bc2"
      },
      "source": [
        "requiredData.shape"
      ],
      "execution_count": 12,
      "outputs": [
        {
          "output_type": "execute_result",
          "data": {
            "text/plain": [
              "(462, 2)"
            ]
          },
          "metadata": {
            "tags": []
          },
          "execution_count": 12
        }
      ]
    },
    {
      "cell_type": "code",
      "metadata": {
        "id": "vCHupAkgk8HM"
      },
      "source": [
        "# scaling stock data between 0 and 1\n",
        "import numpy as np\n",
        "from sklearn.preprocessing import MinMaxScaler"
      ],
      "execution_count": 13,
      "outputs": []
    },
    {
      "cell_type": "code",
      "metadata": {
        "id": "nzfWj3cUlN9D"
      },
      "source": [
        "sc = MinMaxScaler(feature_range=(0,1))"
      ],
      "execution_count": 14,
      "outputs": []
    },
    {
      "cell_type": "code",
      "metadata": {
        "id": "BSkJF69plO-L"
      },
      "source": [
        "training_set = requiredData.iloc[:,1:].values"
      ],
      "execution_count": 15,
      "outputs": []
    },
    {
      "cell_type": "code",
      "metadata": {
        "id": "sHArVO7tlVAL"
      },
      "source": [
        "training_set_scaled = sc.fit_transform(training_set)"
      ],
      "execution_count": 16,
      "outputs": []
    },
    {
      "cell_type": "code",
      "metadata": {
        "id": "W8K-K9d5lhe6",
        "colab": {
          "base_uri": "https://localhost:8080/"
        },
        "outputId": "09ce3609-6809-451e-d89f-323ffb762a0e"
      },
      "source": [
        "training_set_scaled[:10]"
      ],
      "execution_count": 17,
      "outputs": [
        {
          "output_type": "execute_result",
          "data": {
            "text/plain": [
              "array([[0.16805556],\n",
              "       [0.04259259],\n",
              "       [0.28472222],\n",
              "       [0.20787037],\n",
              "       [0.15185185],\n",
              "       [0.09444444],\n",
              "       [0.0787037 ],\n",
              "       [0.2662037 ],\n",
              "       [0.08240741],\n",
              "       [0.04537037]])"
            ]
          },
          "metadata": {
            "tags": []
          },
          "execution_count": 17
        }
      ]
    },
    {
      "cell_type": "code",
      "metadata": {
        "id": "53_YOX7jlWJr"
      },
      "source": [
        "# creating training list\n",
        "X_train = []\n",
        "y_train = []"
      ],
      "execution_count": 18,
      "outputs": []
    },
    {
      "cell_type": "code",
      "metadata": {
        "id": "fks_Ri01l20B",
        "colab": {
          "base_uri": "https://localhost:8080/"
        },
        "outputId": "a7b00156-c860-4c8f-b00f-053f339fd04e"
      },
      "source": [
        "training_set_scaled.shape"
      ],
      "execution_count": 19,
      "outputs": [
        {
          "output_type": "execute_result",
          "data": {
            "text/plain": [
              "(462, 1)"
            ]
          },
          "metadata": {
            "tags": []
          },
          "execution_count": 19
        }
      ]
    },
    {
      "cell_type": "code",
      "metadata": {
        "id": "aopwkvvKl0bh"
      },
      "source": [
        "# using past 60 days data to predict 31st day temp\n",
        "prev_day = 60\n",
        "for i in range(prev_day,training_set_scaled.shape[0]):\n",
        "    X_train.append(training_set_scaled[i-prev_day:i,0])\n",
        "    y_train.append(training_set_scaled[i,0])"
      ],
      "execution_count": 20,
      "outputs": []
    },
    {
      "cell_type": "code",
      "metadata": {
        "id": "cudFenVjmNnw"
      },
      "source": [
        "X_train, y_train = np.array(X_train), np.array(y_train)"
      ],
      "execution_count": 21,
      "outputs": []
    },
    {
      "cell_type": "code",
      "metadata": {
        "id": "VFtMgEG7pdWw",
        "colab": {
          "base_uri": "https://localhost:8080/"
        },
        "outputId": "23c5c0ad-5a80-44e8-a6a1-215cd19e3a2a"
      },
      "source": [
        "(X_train.shape, y_train.shape)"
      ],
      "execution_count": 22,
      "outputs": [
        {
          "output_type": "execute_result",
          "data": {
            "text/plain": [
              "((402, 60), (402,))"
            ]
          },
          "metadata": {
            "tags": []
          },
          "execution_count": 22
        }
      ]
    },
    {
      "cell_type": "code",
      "metadata": {
        "id": "n1M1ylgNmPOA",
        "colab": {
          "base_uri": "https://localhost:8080/"
        },
        "outputId": "82aa37a6-6e2b-422f-eed5-44a0c00306f6"
      },
      "source": [
        "X_train[0], y_train[0]"
      ],
      "execution_count": 23,
      "outputs": [
        {
          "output_type": "execute_result",
          "data": {
            "text/plain": [
              "(array([0.16805556, 0.04259259, 0.28472222, 0.20787037, 0.15185185,\n",
              "        0.09444444, 0.0787037 , 0.2662037 , 0.08240741, 0.04537037,\n",
              "        0.18240741, 0.5037037 , 0.19907407, 0.02268519, 0.0837963 ,\n",
              "        0.09768519, 0.14861111, 0.12731481, 0.25601852, 0.84074074,\n",
              "        0.23194444, 0.18425926, 0.25277778, 0.76018519, 0.2875    ,\n",
              "        0.71388889, 0.55185185, 0.17824074, 0.21203704, 0.55972222,\n",
              "        0.22685185, 0.10324074, 0.21435185, 0.21759259, 0.16296296,\n",
              "        0.26944444, 0.16342593, 0.08564815, 0.10925926, 0.13472222,\n",
              "        0.16666667, 0.04490741, 0.14814815, 0.09814815, 0.10092593,\n",
              "        0.13888889, 0.17592593, 0.40092593, 0.44166667, 0.10555556,\n",
              "        0.32824074, 0.26018519, 0.23657407, 0.1587963 , 0.10787037,\n",
              "        0.13055556, 0.45092593, 0.30277778, 0.18657407, 0.6087963 ]),\n",
              " 0.5888888888888889)"
            ]
          },
          "metadata": {
            "tags": []
          },
          "execution_count": 23
        }
      ]
    },
    {
      "cell_type": "code",
      "metadata": {
        "id": "wJYxKwOimr6J",
        "colab": {
          "base_uri": "https://localhost:8080/"
        },
        "outputId": "3422f760-c820-4a13-a924-5ec5b1b7db6a"
      },
      "source": [
        "# reshaping X_train to 3 dimensional array from (521,30) to (521,30,1)\n",
        "X_train = np.reshape(X_train, (X_train.shape[0],X_train.shape[1],1))\n",
        "print(X_train.shape)"
      ],
      "execution_count": 24,
      "outputs": [
        {
          "output_type": "stream",
          "text": [
            "(402, 60, 1)\n"
          ],
          "name": "stdout"
        }
      ]
    },
    {
      "cell_type": "code",
      "metadata": {
        "id": "MI0c19aYm45e"
      },
      "source": [
        "# importing other required packages for training\n",
        "import numpy as  np\n",
        "import matplotlib.pyplot as plt\n",
        "import tensorflow as tf\n",
        "from tensorflow.keras import Model, layers"
      ],
      "execution_count": 25,
      "outputs": []
    },
    {
      "cell_type": "code",
      "metadata": {
        "id": "ec_iif-CnJaJ"
      },
      "source": [
        "  # Training Parameters\n",
        "learning_rate = 1e-4\n",
        "training_steps = X_train.shape[0]\n",
        "batch_size = 20\n",
        "display_step = 100"
      ],
      "execution_count": 26,
      "outputs": []
    },
    {
      "cell_type": "code",
      "metadata": {
        "id": "98PcIorKnMHu"
      },
      "source": [
        "# Use tf.data API to shuffle and batch data.\n",
        "train_data = tf.data.Dataset.from_tensor_slices((X_train[:380], y_train[:380]))\n",
        "train_data = train_data.repeat().shuffle(100).batch(batch_size).prefetch(1)"
      ],
      "execution_count": 27,
      "outputs": []
    },
    {
      "cell_type": "code",
      "metadata": {
        "id": "aOgClokynOBO"
      },
      "source": [
        "class RNN(Model):\n",
        "    def __init__(self):\n",
        "        super(RNN, self).__init__()\n",
        "        \n",
        "        self.lstm_layer = layers.LSTM(units=4)\n",
        "        self.hidden_layer1 = layers.Dense(64)\n",
        "        self.hidden_layer2 = layers.Dense(128)\n",
        "        self.dropout1 = layers.Dropout(0.2)\n",
        "        self.dropout2 = layers.Dropout(0.3)\n",
        "        self.dropout3 = layers.Dropout(0.4)\n",
        "        self.out = layers.Dense(1)\n",
        "        \n",
        "    \n",
        "    def call(self, x):\n",
        "        \n",
        "        \n",
        "        x = self.lstm_layer(x)\n",
        "        x = self.dropout1(x)\n",
        "\n",
        "        x = self.dropout1(x)\n",
        "\n",
        "        x = self.hidden_layer1(x)\n",
        "        x = self.dropout2(x)\n",
        "\n",
        "        x = self.hidden_layer2(x)\n",
        "        x = self.dropout3(x)\n",
        "\n",
        "        x = self.out(x)\n",
        "        return x"
      ],
      "execution_count": 28,
      "outputs": []
    },
    {
      "cell_type": "code",
      "metadata": {
        "id": "hlsxHh5eArKN"
      },
      "source": [
        "def loss_func( predicted_y, target_y):\n",
        "    target_y = tf.dtypes.cast(target_y, tf.double)\n",
        "    predicted_y = tf.dtypes.cast(predicted_y, tf.double)\n",
        "    predicted_y = tf.constant(predicted_y)\n",
        "    target_y = tf.constant(target_y)\n",
        "    loss = tf.reduce_mean(tf.square(target_y - predicted_y))\n",
        "    return loss"
      ],
      "execution_count": 29,
      "outputs": []
    },
    {
      "cell_type": "code",
      "metadata": {
        "id": "OjMcugWfnVmt"
      },
      "source": [
        "rnn = RNN()"
      ],
      "execution_count": 30,
      "outputs": []
    },
    {
      "cell_type": "code",
      "metadata": {
        "id": "W_Jh8zManXj9"
      },
      "source": [
        "optimizer = tf.optimizers.Adam(learning_rate)\n",
        "def train(x, y):\n",
        "    # Wrap computation inside a GradientTape for automatic differentiation.\n",
        "    with tf.GradientTape() as g:\n",
        "        # Forward pass.\n",
        "        pred = rnn(x)\n",
        "        # Compute loss.\n",
        "        loss = loss_func(pred,y)\n",
        "#         loss = cross_entropy_loss(pred, y)\n",
        "        \n",
        "    # Variables to update, i.e. trainable variables.\n",
        "    trainable_variables = rnn.trainable_variables\n",
        "\n",
        "    # Compute gradients.\n",
        "    gradients = g.gradient(loss, trainable_variables)\n",
        "    \n",
        "    # Update weights following gradients.\n",
        "    optimizer.apply_gradients(zip(gradients, trainable_variables))"
      ],
      "execution_count": 31,
      "outputs": []
    },
    {
      "cell_type": "code",
      "metadata": {
        "id": "AIS5OpD_nbfu",
        "colab": {
          "base_uri": "https://localhost:8080/"
        },
        "outputId": "a79e0c3c-09ee-4bf7-b1b3-ed2c77f1e09d"
      },
      "source": [
        "# Run training for the given number of steps.\n",
        "epoches = 10\n",
        "for epoch in range(epoches):\n",
        "    for step, (batch_x, batch_y) in enumerate(train_data.take(480), 1):\n",
        "        # Run the optimization to update W and b values.\n",
        "        train(tf.reshape(batch_x,[batch_size,60,1]), batch_y)\n",
        "        \n",
        "        if step%100 == 0 or step == 1:\n",
        "            pred = rnn(tf.reshape(batch_x,[batch_size,60,1]))\n",
        "            loss = loss_func(pred, batch_y)\n",
        "            print(\"Epoch: %i step: %i, loss: %f\" % (epoch, step, loss))"
      ],
      "execution_count": 32,
      "outputs": [
        {
          "output_type": "stream",
          "text": [
            "Epoch: 0 step: 1, loss: 0.145489\n",
            "Epoch: 0 step: 100, loss: 0.027755\n",
            "Epoch: 0 step: 200, loss: 0.017895\n",
            "Epoch: 0 step: 300, loss: 0.016991\n",
            "Epoch: 0 step: 400, loss: 0.017196\n",
            "Epoch: 1 step: 1, loss: 0.038025\n",
            "Epoch: 1 step: 100, loss: 0.022997\n",
            "Epoch: 1 step: 200, loss: 0.058461\n",
            "Epoch: 1 step: 300, loss: 0.041205\n",
            "Epoch: 1 step: 400, loss: 0.044895\n",
            "Epoch: 2 step: 1, loss: 0.026516\n",
            "Epoch: 2 step: 100, loss: 0.010321\n",
            "Epoch: 2 step: 200, loss: 0.022995\n",
            "Epoch: 2 step: 300, loss: 0.009818\n",
            "Epoch: 2 step: 400, loss: 0.021892\n",
            "Epoch: 3 step: 1, loss: 0.027659\n",
            "Epoch: 3 step: 100, loss: 0.021426\n",
            "Epoch: 3 step: 200, loss: 0.023076\n",
            "Epoch: 3 step: 300, loss: 0.032328\n",
            "Epoch: 3 step: 400, loss: 0.049092\n",
            "Epoch: 4 step: 1, loss: 0.027205\n",
            "Epoch: 4 step: 100, loss: 0.049667\n",
            "Epoch: 4 step: 200, loss: 0.023585\n",
            "Epoch: 4 step: 300, loss: 0.013065\n",
            "Epoch: 4 step: 400, loss: 0.034909\n",
            "Epoch: 5 step: 1, loss: 0.025200\n",
            "Epoch: 5 step: 100, loss: 0.009662\n",
            "Epoch: 5 step: 200, loss: 0.068087\n",
            "Epoch: 5 step: 300, loss: 0.007060\n",
            "Epoch: 5 step: 400, loss: 0.022279\n",
            "Epoch: 6 step: 1, loss: 0.017284\n",
            "Epoch: 6 step: 100, loss: 0.031745\n",
            "Epoch: 6 step: 200, loss: 0.010483\n",
            "Epoch: 6 step: 300, loss: 0.022514\n",
            "Epoch: 6 step: 400, loss: 0.034763\n",
            "Epoch: 7 step: 1, loss: 0.045454\n",
            "Epoch: 7 step: 100, loss: 0.016408\n",
            "Epoch: 7 step: 200, loss: 0.050308\n",
            "Epoch: 7 step: 300, loss: 0.022261\n",
            "Epoch: 7 step: 400, loss: 0.030211\n",
            "Epoch: 8 step: 1, loss: 0.033662\n",
            "Epoch: 8 step: 100, loss: 0.021764\n",
            "Epoch: 8 step: 200, loss: 0.028244\n",
            "Epoch: 8 step: 300, loss: 0.013793\n",
            "Epoch: 8 step: 400, loss: 0.014790\n",
            "Epoch: 9 step: 1, loss: 0.027664\n",
            "Epoch: 9 step: 100, loss: 0.009680\n",
            "Epoch: 9 step: 200, loss: 0.034625\n",
            "Epoch: 9 step: 300, loss: 0.034588\n",
            "Epoch: 9 step: 400, loss: 0.011620\n"
          ],
          "name": "stdout"
        }
      ]
    },
    {
      "cell_type": "code",
      "metadata": {
        "id": "eoukx2pCHHtt"
      },
      "source": [
        "# creating training list\n",
        "X_test = []\n",
        "y_test = []"
      ],
      "execution_count": 33,
      "outputs": []
    },
    {
      "cell_type": "code",
      "metadata": {
        "colab": {
          "base_uri": "https://localhost:8080/"
        },
        "id": "4hcNysKaHHtx",
        "outputId": "5a9f462d-4579-40dd-bfcc-bcb515298fca"
      },
      "source": [
        "training_set_scaled.shape"
      ],
      "execution_count": 34,
      "outputs": [
        {
          "output_type": "execute_result",
          "data": {
            "text/plain": [
              "(462, 1)"
            ]
          },
          "metadata": {
            "tags": []
          },
          "execution_count": 34
        }
      ]
    },
    {
      "cell_type": "code",
      "metadata": {
        "id": "jg0JWziSHHtz"
      },
      "source": [
        "# using past 60 days data to predict 31st day temp\n",
        "prev_day = 60\n",
        "for i in range(380,training_set_scaled.shape[0]):\n",
        "    X_test.append(training_set_scaled[i-prev_day:i,0])\n",
        "    y_test.append(training_set_scaled[i,0])"
      ],
      "execution_count": 35,
      "outputs": []
    },
    {
      "cell_type": "code",
      "metadata": {
        "id": "0aJ7aQTmHjSk"
      },
      "source": [
        "X_test = np.array(X_test)\n",
        "X_test = np.reshape(X_test, (X_test.shape[0],X_test.shape[1],1))"
      ],
      "execution_count": 36,
      "outputs": []
    },
    {
      "cell_type": "code",
      "metadata": {
        "id": "QWs0ggzipwJf"
      },
      "source": [
        "test_data = tf.data.Dataset.from_tensor_slices((X_test, y_test))\n",
        "test_data = test_data.repeat().shuffle(100).batch(5).prefetch(1)"
      ],
      "execution_count": 37,
      "outputs": []
    },
    {
      "cell_type": "code",
      "metadata": {
        "colab": {
          "base_uri": "https://localhost:8080/",
          "height": 267
        },
        "id": "BhDGWySvFdI6",
        "outputId": "ad85bdfc-1152-42d0-e08f-dad24dbe4779"
      },
      "source": [
        "for step, (batch_x, batch_y) in enumerate(test_data.take(1), 1):\n",
        "    print\n",
        "    pred = rnn(batch_x)\n",
        "    plt.plot(pred, label = 'pred')\n",
        "    plt.plot(batch_y, label = 'real')\n",
        "    plt.legend()"
      ],
      "execution_count": 38,
      "outputs": [
        {
          "output_type": "display_data",
          "data": {
            "image/png": "[encoded data removed]",
            "text/plain": [
              "<Figure size 432x288 with 1 Axes>"
            ]
          },
          "metadata": {
            "tags": [],
            "needs_background": "light"
          }
        }
      ]
    },
    {
      "cell_type": "code",
      "metadata": {
        "id": "owPMfPlSDBP3"
      },
      "source": [
        ""
      ],
      "execution_count": 38,
      "outputs": []
    }
  ]
}